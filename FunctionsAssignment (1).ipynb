{
  "nbformat": 4,
  "nbformat_minor": 0,
  "metadata": {
    "colab": {
      "provenance": []
    },
    "kernelspec": {
      "name": "python3",
      "display_name": "Python 3"
    },
    "language_info": {
      "name": "python"
    }
  },
  "cells": [
    {
      "cell_type": "markdown",
      "source": [
        "##FUNCTIONS ASSIGNMENT\n",
        "\n",
        "##THEORY QUESTIONS\n",
        "\n"
      ],
      "metadata": {
        "id": "acYvUa1mUagH"
      }
    },
    {
      "cell_type": "markdown",
      "source": [
        "1.What is the difference between a function and a method in Python?\n",
        "\n",
        "\n",
        "  ->Function: A function is a standalone block of code that performs a specific task. It is defined using the def keyword and can be called independently. It may or may not take parameters and return a value. Functions can be defined inside or outside of classes. Method: A method is a function that belongs to a class. It is defined inside a class and is used to operate on instances (objects) of that class. Methods have self as the first parameter (for instance methods) to access object properties and other methods. There are instance methods, class methods, and static methods."
      ],
      "metadata": {
        "id": "oAzL8ETWUhP2"
      }
    },
    {
      "cell_type": "markdown",
      "source": [
        "2.Explain the concept of function arguments and parameters in Python.\n",
        "\n",
        "\n",
        "  ->Function Arguments and Parameters in Python In Python, parameters and arguments are used when defining and calling functions.\n",
        "\n",
        "Parameters are variables listed inside the function definition (used when defining a function). Arguments are actual values passed to the function when it is called."
      ],
      "metadata": {
        "id": "plND8pOWUwrL"
      }
    },
    {
      "cell_type": "markdown",
      "source": [
        "3.What are the different ways to define and call a function in Python?\n",
        "Different Ways to Define and Call a Function in Python In Python, functions can be defined and called in various ways. Here’s a breakdown of the different methods:\n",
        "\n",
        "Regular Function Definition and Call Definition: A function is defined using the def keyword. Function with Default Parameters A function can have default values for parameters. If no argument is provided, the default value is used. Function with Multiple Arguments Python supports multiple arguments, including positional and keyword arguments. Function with Variable-Length Arguments (*args and **kwargs) Using *args (Multiple Positional Arguments) *args collects arguments as a tuple. Using **kwargs (Multiple Keyword Arguments) **kwargs collects keyword arguments as a dictionary. Lambda (Anonymous) Function Lambda functions are one-liner anonymous functions. Often used for short, simple operations. Function with Return Statement A function can return a value using return. Nested Functions A function can be defined inside another function. Used for encapsulation. First-Class Functions (Passing Functions as Arguments) Functions can be passed as arguments. Recursive Function A function can call itself to solve problems like factorial calculation. Function with map(), filter(), and reduce() Python has built-in functions to work with collections."
      ],
      "metadata": {
        "id": "dPc9G5-iVFdC"
      }
    },
    {
      "cell_type": "markdown",
      "source": [
        "4.What is the purpose of the return statement in a Python function?\n",
        "\n",
        "  ->The return statement in a Python function is used to send a value (or multiple values) back to the caller of the function."
      ],
      "metadata": {
        "id": "phy8ZMtlVKvA"
      }
    },
    {
      "cell_type": "markdown",
      "source": [
        "5.What are iterators in Python and how do they differ from iterables?\n",
        "\n",
        "  ->Iterables An iterable is any Python object that can be looped over (iterated through). It contains elements that can be accessed one at a time. Common examples include:\n",
        "\n",
        "Lists (list) Tuples (tuple) Strings (str) Dictionaries (dict) Sets (set) Iterables implement the iter() method, which returns an iterator.\n",
        "\n",
        "Iterators An iterator is an object that produces elements from an iterable one at a time, maintaining its state. It implements two special methods:\n",
        "\n",
        "iter(): Returns the iterator object itself. next(): Returns the next item in the sequence; raises StopIteration when no more elements exist. You can create an iterator using the iter() function."
      ],
      "metadata": {
        "id": "zi66kO9hVSo0"
      }
    },
    {
      "cell_type": "markdown",
      "source": [
        "6.Explain the concept of generators in Python and how they are defined?\n",
        "\n",
        "  ->Generators in Python Generators in Python are a special type of iterable that allow you to iterate over values lazily (one at a time) instead of storing them all in memory. They are used to create iterators in a more concise and memory-efficient way. A generator is defined using a function with the yield keyword instead of return. Each time yield is encountered, the function’s state is saved, and execution resumes from there the next time the generator is called."
      ],
      "metadata": {
        "id": "6Br2Zki8VbSk"
      }
    },
    {
      "cell_type": "markdown",
      "source": [
        "7.What are the advantages of using generators over regular functions?\n",
        "\n",
        "\n",
        "   ->Advantages of Using Generators Over Regular Functions Generators offer several benefits over regular functions, especially when dealing with large datasets or continuous data streams. Here are the key advantages: When to Use Generators\n",
        "\n",
        ".Processing large datasets (e.g., reading large files, streams).\n",
        "\n",
        ".Handling infinite sequences (e.g., real-time data processing).\n",
        "\n",
        ".Reducing memory usage (e.g., generating numbers dynamically).\n",
        "\n",
        ".Writing cleaner, more readable code (e.g., avoiding iterators manually)"
      ],
      "metadata": {
        "id": "k7PUKg5fVj7W"
      }
    },
    {
      "cell_type": "markdown",
      "source": [
        "8.What is a lambda function in Python and when is it typically used?\n",
        "\n",
        "\n",
        "   ->Lambda Functions in Python A lambda function in Python is a small, anonymous function that can have any number of arguments but only one expression. It is defined using the lambda keyword. When to Use Lambda Functions Lambda functions are typically used when a simple function is required for a short period, such as:\n",
        "\n",
        "\n",
        ".With map(), filter(), and reduce()\n",
        "\n",
        ".In sorting (with sorted() or sort())\n",
        "\n",
        ".As inline functions for event handling\n",
        "\n",
        ".For short, throwaway functions instead of defining named functions"
      ],
      "metadata": {
        "id": "QZxrazl-WP6K"
      }
    },
    {
      "cell_type": "markdown",
      "source": [
        "9.Explain the purpose and usage of the map() function in Python.\n",
        "\n",
        "   ->map() Function in Python The map() function in Python is used to apply a given function to all items in an iterable (e.g., list, tuple) and return a map object (which is an iterator). It allows for efficient transformations without using explicit loops"
      ],
      "metadata": {
        "id": "aJ4FX_xgWpMB"
      }
    },
    {
      "cell_type": "markdown",
      "source": [
        "10.What is the difference between map(), reduce(), and filter() functions in Python?\n",
        "\n",
        "  ->.map() Function Purpose: Applies a function to each element in an iterable and returns an iterator of the results. Use Case: When you want to transform all elements in an iterable.\n",
        "\n",
        "  .filter() Function Purpose: Filters elements of an iterable based on a condition (i.e., returns only elements for which the function returns True). Use Case: When you want to extract elements that meet a specific condition.\n",
        "\n",
        "\n",
        "  .reduce() Function (from functools module) Purpose: Applies a function cumulatively to reduce an iterable to a single value. Use Case: When you need to reduce an iterable into a single cumulative value (sum, product, max, etc.)."
      ],
      "metadata": {
        "id": "PGaFkiT-Wylu"
      }
    },
    {
      "cell_type": "markdown",
      "source": [
        "11.Using pen & Paper write the internal mechanism for sum operation using reduce function on this given list:[47,11,42,13];\n",
        "\n",
        "\n",
        "  ->Internal Mechanism of reduce() for Sum Operation We will manually trace how reduce() computes the sum of the list [47, 11, 42, 13]. Step 1: Understanding reduce()\n",
        "\n",
        "\n",
        "  .The reduce() function from functools works as follows:\n",
        "\n",
        "\n",
        "   .The lambda function lambda x, y: x + y takes two numbers and adds them.\n",
        "\n",
        "  .reduce() applies this function cumulatively on the list. Step 2: Manual Execution (Pen & Paper) Given List: [47, 11, 42, 13] Iteration Breakdown:\n",
        "\n",
        "  .First Call: x = 47, y = 11 → 47 + 11 = 58\n",
        "\n",
        "   .Second Call: x = 58, y = 42 → 58 + 42 = 100\n",
        "\n",
        "  .Third Call: x = 100, y = 13 → 100 + 13 = 113\n",
        "\n",
        "🔹 Final Result: 113\n",
        "\n",
        "Step 3: Internal Mechanism (Stack Representation)\n",
        "\n",
        "reduce(lambda x, y: x + y, [47, 11, 42, 13])\n",
        "\n",
        "Step 1: (47 + 11) → 58 Step 2: (58 + 42) → 100 Step 3: (100 + 13) → 113 Final Result: 113 Thus, reduce() iteratively reduces the list to a single sum value. Step 3: Internal Mechanism (Stack Representation) Thus, reduce() iteratively reduces the list to a single sum value."
      ],
      "metadata": {
        "id": "Pa6bM3RfXLyW"
      }
    },
    {
      "cell_type": "markdown",
      "source": [
        "###Practical questions"
      ],
      "metadata": {
        "id": "9XhIWhlmXvts"
      }
    },
    {
      "cell_type": "code",
      "source": [
        "#1  Write a Python function that takes a list of numbers as input and returns the sum of all even numbers in\n",
        "#the list.\n",
        "\n",
        "def sum_of_evens(numbers):\n",
        "    return sum(filter(lambda x: x % 2 == 0, numbers))\n",
        "\n",
        "# Example usage:\n",
        "numbers = [1, 2, 3, 4, 5, 6, 7, 8, 9, 10]\n",
        "print(sum_of_evens(numbers))  # Output: 30 (2 + 4 + 6 + 8 + 10)"
      ],
      "metadata": {
        "colab": {
          "base_uri": "https://localhost:8080/"
        },
        "id": "ExL3tBPSXzot",
        "outputId": "361c4df8-c20b-403d-ccdd-db114321c0eb"
      },
      "execution_count": null,
      "outputs": [
        {
          "output_type": "stream",
          "name": "stdout",
          "text": [
            "30\n"
          ]
        }
      ]
    },
    {
      "cell_type": "code",
      "source": [
        "#2 Create a Python function that accepts a string and returns the reverse of that string.\n",
        "def reverse_string(s):\n",
        "    return s[::-1]\n",
        "\n",
        "# Example usage:\n",
        "print(reverse_string(\"hello\"))  # Output: \"olleh\""
      ],
      "metadata": {
        "colab": {
          "base_uri": "https://localhost:8080/"
        },
        "id": "YyCxQ1D8YLqY",
        "outputId": "0c006659-84d6-46f6-838f-5ed8ad83fa37"
      },
      "execution_count": null,
      "outputs": [
        {
          "output_type": "stream",
          "name": "stdout",
          "text": [
            "olleh\n"
          ]
        }
      ]
    },
    {
      "cell_type": "code",
      "source": [
        "#3  Implement a Python function that takes a list of integers and returns a new list containing the squares of\n",
        "#each number\n",
        "def square_numbers(numbers):\n",
        "    return [x ** 2 for x in numbers]\n",
        "\n",
        "# Example usage:\n",
        "nums = [1, 2, 3, 4, 5]\n",
        "print(square_numbers(nums))  # Output: [1, 4, 9, 16, 25]"
      ],
      "metadata": {
        "colab": {
          "base_uri": "https://localhost:8080/"
        },
        "id": "lvpPoJOBYQJU",
        "outputId": "62732557-fca5-483f-de2e-8a24f8909433"
      },
      "execution_count": null,
      "outputs": [
        {
          "output_type": "stream",
          "name": "stdout",
          "text": [
            "[1, 4, 9, 16, 25]\n"
          ]
        }
      ]
    },
    {
      "cell_type": "code",
      "source": [
        "#4  Write a Python function that checks if a given number is prime or not from 1 to 200.\n",
        "\n",
        "def is_prime(n):\n",
        "    if n < 2:\n",
        "        return False\n",
        "    for i in range(2, int(n ** 0.5) + 1):\n",
        "        if n % i == 0:\n",
        "            return False\n",
        "    return True\n",
        "\n",
        "# Print all prime numbers from 1 to 200\n",
        "primes = [num for num in range(1, 201) if is_prime(num)]\n",
        "print(primes)"
      ],
      "metadata": {
        "colab": {
          "base_uri": "https://localhost:8080/"
        },
        "id": "XvJNOFbkYVva",
        "outputId": "5db30c23-03ac-438f-a1b1-d946ba3a7249"
      },
      "execution_count": null,
      "outputs": [
        {
          "output_type": "stream",
          "name": "stdout",
          "text": [
            "[2, 3, 5, 7, 11, 13, 17, 19, 23, 29, 31, 37, 41, 43, 47, 53, 59, 61, 67, 71, 73, 79, 83, 89, 97, 101, 103, 107, 109, 113, 127, 131, 137, 139, 149, 151, 157, 163, 167, 173, 179, 181, 191, 193, 197, 199]\n"
          ]
        }
      ]
    },
    {
      "cell_type": "code",
      "source": [
        "#5  Create an iterator class in Python that generates the Fibonacci sequence up to a specified number of\n",
        "#terms.\n",
        "\n",
        "class FibonacciIterator:\n",
        "    def __init__(self, n_terms):\n",
        "        self.n_terms = n_terms  # Number of terms to generate\n",
        "        self.a, self.b = 0, 1   # Initial Fibonacci numbers\n",
        "        self.count = 0          # Counter to track iterations\n",
        "\n",
        "    def __iter__(self):\n",
        "        return self  # An iterator must return itself\n",
        "\n",
        "    def __next__(self):\n",
        "        if self.count >= self.n_terms:\n",
        "            raise StopIteration  # Stop iteration after n_terms\n",
        "\n",
        "        if self.count == 0:\n",
        "            self.count += 1\n",
        "            return 0  # First Fibonacci number\n",
        "\n",
        "        elif self.count == 1:\n",
        "            self.count += 1\n",
        "            return 1  # Second Fibonacci number\n",
        "\n",
        "        # Calculate the next Fibonacci number\n",
        "        fib = self.a + self.b\n",
        "        self.a, self.b = self.b, fib  # Update values\n",
        "        self.count += 1\n",
        "        return fib\n",
        "\n",
        "# Example Usage:\n",
        "fib_iterator = FibonacciIterator(10)  # Generate first 10 Fibonacci numbers\n",
        "print(list(fib_iterator))  # Output: [0, 1, 1, 2, 3, 5, 8, 13, 21, 34]"
      ],
      "metadata": {
        "colab": {
          "base_uri": "https://localhost:8080/"
        },
        "id": "c3gyUWH7YaXn",
        "outputId": "487b1c11-5649-4579-fda4-438ed30c797b"
      },
      "execution_count": null,
      "outputs": [
        {
          "output_type": "stream",
          "name": "stdout",
          "text": [
            "[0, 1, 1, 2, 3, 5, 8, 13, 21, 34]\n"
          ]
        }
      ]
    },
    {
      "cell_type": "code",
      "source": [
        "#6 Write a generator function in Python that yields the powers of 2 up to a given exponent.\n",
        "def powers_of_two(max_exponent):\n",
        "    for exponent in range(max_exponent + 1):\n",
        "        yield 2 ** exponent  # Yield powers of 2\n",
        "\n",
        "# Example Usage:\n",
        "for power in powers_of_two(5):\n",
        "    print(power)\n"
      ],
      "metadata": {
        "colab": {
          "base_uri": "https://localhost:8080/"
        },
        "id": "ltWfXL0tYfGB",
        "outputId": "f0bd3975-15a4-43ff-a1dc-be8faf03c4c9"
      },
      "execution_count": null,
      "outputs": [
        {
          "output_type": "stream",
          "name": "stdout",
          "text": [
            "1\n",
            "2\n",
            "4\n",
            "8\n",
            "16\n",
            "32\n"
          ]
        }
      ]
    },
    {
      "cell_type": "code",
      "source": [
        "#7  Implement a generator function that reads a file line by line and yields each line as a string.\n",
        "def read_file_line_by_line(file_path):\n",
        "    \"\"\"Generator function that reads a file line by line and yields each line as a string.\"\"\"\n",
        "    try:\n",
        "        with open(file_path, 'r', encoding='utf-8') as file:\n",
        "            yield from (line.rstrip('\\n') for line in file)\n",
        "    except FileNotFoundError:\n",
        "        print(f\"Error: The file '{file_path}' was not found.\")\n",
        "    except IOError:\n",
        "        print(f\"Error: An issue occurred while reading the file '{file_path}'.\")\n",
        "\n",
        "# Example usage:\n",
        "# for line in read_file_line_by_line(\"example.txt\"):\n",
        "#     print(line)\n"
      ],
      "metadata": {
        "id": "yZ6XWs0PYipN"
      },
      "execution_count": null,
      "outputs": []
    },
    {
      "cell_type": "code",
      "source": [
        "#8 Use a lambda function in Python to sort a list of tuples based on the second element of each tuple.\n",
        "# Sample list of tuples\n",
        "data = [(1, 3), (4, 1), (2, 2), (5, 0)]\n",
        "\n",
        "# Sorting based on the second element of each tuple\n",
        "\n",
        "sorted_data = sorted(data, key=lambda x: x[1])\n",
        "\n",
        "# Output the sorted list\n",
        "print(sorted_data)\n"
      ],
      "metadata": {
        "colab": {
          "base_uri": "https://localhost:8080/"
        },
        "id": "fexvpoiTYoWT",
        "outputId": "1e6e0499-54e1-47b1-9d7e-4c0774870c5e"
      },
      "execution_count": null,
      "outputs": [
        {
          "output_type": "stream",
          "name": "stdout",
          "text": [
            "[(5, 0), (4, 1), (2, 2), (1, 3)]\n"
          ]
        }
      ]
    },
    {
      "cell_type": "code",
      "source": [
        "#9 Write a Python program that uses `map()` to convert a list of temperatures from Celsius to Fahrenheit.\n",
        "# Function to convert Celsius to Fahrenheit\n",
        "celsius_to_fahrenheit = lambda c: (c * 9/5) + 32\n",
        "\n",
        "# List of temperatures in Celsius\n",
        "temperatures_celsius = [0, 20, 30, 40, 100]\n",
        "\n",
        "# Convert using map()\n",
        "temperatures_fahrenheit = list(map(celsius_to_fahrenheit, temperatures_celsius))\n",
        "\n",
        "# Output the converted temperatures\n",
        "print(temperatures_fahrenheit)"
      ],
      "metadata": {
        "colab": {
          "base_uri": "https://localhost:8080/"
        },
        "id": "Ru0XNcuDYru4",
        "outputId": "d1e3dcea-c9d1-4918-a485-5b91a51e819c"
      },
      "execution_count": null,
      "outputs": [
        {
          "output_type": "stream",
          "name": "stdout",
          "text": [
            "[32.0, 68.0, 86.0, 104.0, 212.0]\n"
          ]
        }
      ]
    },
    {
      "cell_type": "code",
      "source": [
        "#10  Create a Python program that uses `filter()` to remove all the vowels from a given string.\n",
        "# Function to check if a character is not a vowel\n",
        "is_not_vowel = lambda char: char.lower() not in 'aeiou'\n",
        "\n",
        "# Given string\n",
        "input_string = \"Hello, World!\"\n",
        "\n",
        "# Use filter to remove vowels\n",
        "filtered_string = ''.join(filter(is_not_vowel, input_string))\n",
        "\n",
        "# Output the result\n",
        "print(filtered_string)\n"
      ],
      "metadata": {
        "colab": {
          "base_uri": "https://localhost:8080/"
        },
        "id": "8S7m_xweYu_u",
        "outputId": "a2e70f17-3091-4c4e-9c65-be241ea1deb8"
      },
      "execution_count": null,
      "outputs": [
        {
          "output_type": "stream",
          "name": "stdout",
          "text": [
            "Hll, Wrld!\n"
          ]
        }
      ]
    },
    {
      "cell_type": "code",
      "source": [
        "#11 Question as follows.\n",
        "# Given list of orders\n",
        "orders = [\n",
        "    (34587, \"Learning Python, Mark Lutz\", 4, 40.95),\n",
        "    (98762, \"Programming Python, Mark Lutz\", 5, 56.80),\n",
        "    (77226, \"Head First Python, Paul Barry\", 3, 32.95),\n",
        "    (88112, \"Einführung in Python3, Bernd Klein\", 3, 24.99)\n",
        "]\n",
        "\n",
        "# Using lambda and map to process the orders\n",
        "processed_orders = list(map(lambda order: (order[0], order[2] * order[3] + (10 if order[2] * order[3] < 100 else 0)), orders))\n",
        "\n",
        "# Output the result\n",
        "print(processed_orders)"
      ],
      "metadata": {
        "colab": {
          "base_uri": "https://localhost:8080/"
        },
        "id": "SyPm7_0XY0p_",
        "outputId": "653deb55-622e-4aa1-b9d2-2ad953974898"
      },
      "execution_count": null,
      "outputs": [
        {
          "output_type": "stream",
          "name": "stdout",
          "text": [
            "[(34587, 163.8), (98762, 284.0), (77226, 108.85000000000001), (88112, 84.97)]\n"
          ]
        }
      ]
    }
  ]
}